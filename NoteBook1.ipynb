{
    "cells": [
        {
            "cell_type": "code",
            "execution_count": null,
            "metadata": {},
            "outputs": [],
            "source": "## First Line"
        },
        {
            "cell_type": "code",
            "execution_count": 25,
            "metadata": {},
            "outputs": [
                {
                    "data": {
                        "text/html": "<div>\n<style scoped>\n    .dataframe tbody tr th:only-of-type {\n        vertical-align: middle;\n    }\n\n    .dataframe tbody tr th {\n        vertical-align: top;\n    }\n\n    .dataframe thead th {\n        text-align: right;\n    }\n</style>\n<table border=\"1\" class=\"dataframe\">\n  <thead>\n    <tr style=\"text-align: right;\">\n      <th></th>\n      <th>ID</th>\n      <th>Exam1</th>\n      <th>Exam2</th>\n      <th>Homework</th>\n      <th>Final</th>\n      <th>Project</th>\n      <th>Total Points</th>\n      <th>Grade</th>\n      <th>Unnamed: 8</th>\n      <th>Exam1/200</th>\n      <th>...</th>\n      <th>Final/200</th>\n      <th>Project/100</th>\n      <th>Total Points.1</th>\n      <th>Grade.1</th>\n      <th>Unnamed: 16</th>\n      <th>900</th>\n      <th>899</th>\n      <th>799</th>\n      <th>699</th>\n      <th>599</th>\n    </tr>\n  </thead>\n  <tbody>\n    <tr>\n      <th>0</th>\n      <td>100.0</td>\n      <td>89.0</td>\n      <td>94.0</td>\n      <td>88.0</td>\n      <td>87.0</td>\n      <td>95.0</td>\n      <td>899.0</td>\n      <td>B</td>\n      <td>B</td>\n      <td>178.0</td>\n      <td>...</td>\n      <td>174.0</td>\n      <td>95.0</td>\n      <td>899.0</td>\n      <td>B</td>\n      <td>NaN</td>\n      <td>A</td>\n      <td>B</td>\n      <td>C</td>\n      <td>D</td>\n      <td>F</td>\n    </tr>\n    <tr>\n      <th>1</th>\n      <td>101.0</td>\n      <td>78.0</td>\n      <td>84.0</td>\n      <td>90.0</td>\n      <td>89.0</td>\n      <td>94.0</td>\n      <td>866.0</td>\n      <td>B</td>\n      <td>B</td>\n      <td>156.0</td>\n      <td>...</td>\n      <td>178.0</td>\n      <td>94.0</td>\n      <td>866.0</td>\n      <td>B</td>\n      <td>NaN</td>\n      <td>NaN</td>\n      <td>NaN</td>\n      <td>NaN</td>\n      <td>NaN</td>\n      <td>NaN</td>\n    </tr>\n    <tr>\n      <th>2</th>\n      <td>102.0</td>\n      <td>71.0</td>\n      <td>80.0</td>\n      <td>75.0</td>\n      <td>79.0</td>\n      <td>95.0</td>\n      <td>780.0</td>\n      <td>C</td>\n      <td>C</td>\n      <td>142.0</td>\n      <td>...</td>\n      <td>158.0</td>\n      <td>95.0</td>\n      <td>780.0</td>\n      <td>C</td>\n      <td>NaN</td>\n      <td>NaN</td>\n      <td>NaN</td>\n      <td>NaN</td>\n      <td>NaN</td>\n      <td>NaN</td>\n    </tr>\n    <tr>\n      <th>3</th>\n      <td>103.0</td>\n      <td>95.0</td>\n      <td>98.0</td>\n      <td>97.0</td>\n      <td>96.0</td>\n      <td>93.0</td>\n      <td>962.0</td>\n      <td>A</td>\n      <td>A</td>\n      <td>190.0</td>\n      <td>...</td>\n      <td>192.0</td>\n      <td>93.0</td>\n      <td>962.0</td>\n      <td>A</td>\n      <td>NaN</td>\n      <td>NaN</td>\n      <td>NaN</td>\n      <td>NaN</td>\n      <td>NaN</td>\n      <td>NaN</td>\n    </tr>\n    <tr>\n      <th>4</th>\n      <td>104.0</td>\n      <td>79.0</td>\n      <td>88.0</td>\n      <td>85.0</td>\n      <td>88.0</td>\n      <td>96.0</td>\n      <td>861.0</td>\n      <td>B</td>\n      <td>B</td>\n      <td>158.0</td>\n      <td>...</td>\n      <td>176.0</td>\n      <td>96.0</td>\n      <td>861.0</td>\n      <td>B</td>\n      <td>NaN</td>\n      <td>NaN</td>\n      <td>NaN</td>\n      <td>NaN</td>\n      <td>NaN</td>\n      <td>NaN</td>\n    </tr>\n  </tbody>\n</table>\n<p>5 rows \u00d7 22 columns</p>\n</div>",
                        "text/plain": "      ID  Exam1  Exam2  Homework  Final  Project  Total Points Grade  \\\n0  100.0   89.0   94.0      88.0   87.0     95.0         899.0     B   \n1  101.0   78.0   84.0      90.0   89.0     94.0         866.0     B   \n2  102.0   71.0   80.0      75.0   79.0     95.0         780.0     C   \n3  103.0   95.0   98.0      97.0   96.0     93.0         962.0     A   \n4  104.0   79.0   88.0      85.0   88.0     96.0         861.0     B   \n\n  Unnamed: 8  Exam1/200  ...  Final/200  Project/100  Total Points.1  Grade.1  \\\n0          B      178.0  ...      174.0         95.0           899.0        B   \n1          B      156.0  ...      178.0         94.0           866.0        B   \n2          C      142.0  ...      158.0         95.0           780.0        C   \n3          A      190.0  ...      192.0         93.0           962.0        A   \n4          B      158.0  ...      176.0         96.0           861.0        B   \n\n   Unnamed: 16  900  899  799  699  599  \n0          NaN    A    B    C    D    F  \n1          NaN  NaN  NaN  NaN  NaN  NaN  \n2          NaN  NaN  NaN  NaN  NaN  NaN  \n3          NaN  NaN  NaN  NaN  NaN  NaN  \n4          NaN  NaN  NaN  NaN  NaN  NaN  \n\n[5 rows x 22 columns]"
                    },
                    "execution_count": 25,
                    "metadata": {},
                    "output_type": "execute_result"
                }
            ],
            "source": "# The code was removed by Watson Studio for sharing."
        },
        {
            "cell_type": "code",
            "execution_count": null,
            "metadata": {},
            "outputs": [],
            "source": ""
        }
    ],
    "metadata": {
        "kernelspec": {
            "display_name": "Python 3.7",
            "language": "python",
            "name": "python3"
        },
        "language_info": {
            "codemirror_mode": {
                "name": "ipython",
                "version": 3
            },
            "file_extension": ".py",
            "mimetype": "text/x-python",
            "name": "python",
            "nbconvert_exporter": "python",
            "pygments_lexer": "ipython3",
            "version": "3.7.9"
        }
    },
    "nbformat": 4,
    "nbformat_minor": 1
}